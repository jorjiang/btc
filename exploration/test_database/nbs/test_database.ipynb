{
 "cells": [
  {
   "cell_type": "code",
   "execution_count": 1,
   "metadata": {},
   "outputs": [],
   "source": [
    "import pandas as pd\n",
    "from btc_data import BtcData\n",
    "import datetime\n",
    "import numpy as np\n",
    "import cufflinks as cf\n",
    "import plotly as py\n",
    "import plotly.graph_objs as go"
   ]
  },
  {
   "cell_type": "code",
   "execution_count": 2,
   "metadata": {},
   "outputs": [
    {
     "name": "stderr",
     "output_type": "stream",
     "text": [
      "100%|██████████| 33/33 [01:31<00:00,  1.99s/it]\n"
     ]
    }
   ],
   "source": [
    "btc_database = BtcData()"
   ]
  },
  {
   "cell_type": "code",
   "execution_count": 3,
   "metadata": {},
   "outputs": [],
   "source": [
    "btc_database.data"
   ]
  },
  {
   "cell_type": "code",
   "execution_count": 4,
   "metadata": {},
   "outputs": [
    {
     "data": {
      "text/plain": [
       "datetime.datetime(2018, 10, 31, 15, 40, 32, 930531)"
      ]
     },
     "execution_count": 4,
     "metadata": {},
     "output_type": "execute_result"
    }
   ],
   "source": [
    "btc_database.current_time"
   ]
  },
  {
   "cell_type": "code",
   "execution_count": 5,
   "metadata": {},
   "outputs": [
    {
     "ename": "AttributeError",
     "evalue": "'NoneType' object has no attribute 'copy'",
     "output_type": "error",
     "traceback": [
      "\u001b[0;31m---------------------------------------------------------------------------\u001b[0m",
      "\u001b[0;31mAttributeError\u001b[0m                            Traceback (most recent call last)",
      "\u001b[0;32m<ipython-input-5-48514cb56271>\u001b[0m in \u001b[0;36m<module>\u001b[0;34m\u001b[0m\n\u001b[0;32m----> 1\u001b[0;31m \u001b[0mdata\u001b[0m \u001b[0;34m=\u001b[0m \u001b[0mbtc_database\u001b[0m\u001b[0;34m.\u001b[0m\u001b[0mdata\u001b[0m\u001b[0;34m.\u001b[0m\u001b[0mcopy\u001b[0m\u001b[0;34m(\u001b[0m\u001b[0;34m)\u001b[0m\u001b[0;34m\u001b[0m\u001b[0m\n\u001b[0m",
      "\u001b[0;31mAttributeError\u001b[0m: 'NoneType' object has no attribute 'copy'"
     ]
    }
   ],
   "source": [
    "data = btc_database.data.copy()"
   ]
  },
  {
   "cell_type": "code",
   "execution_count": null,
   "metadata": {},
   "outputs": [],
   "source": [
    "data.columns"
   ]
  },
  {
   "cell_type": "code",
   "execution_count": null,
   "metadata": {},
   "outputs": [],
   "source": [
    "py.offline.init_notebook_mode(connected=True)\n",
    "cf.go_offline()"
   ]
  },
  {
   "cell_type": "code",
   "execution_count": null,
   "metadata": {},
   "outputs": [],
   "source": [
    "plot_data = [\n",
    "    go.Scatter(\n",
    "        x=data.index,\n",
    "        y=data['output_volume_BI'],\n",
    "        name='output_volume_BI',\n",
    "        fill='tonexty'\n",
    "    ),\n",
    "    go.Scatter(\n",
    "        x=data.index,\n",
    "        y=data['market_price_BI'],\n",
    "        name='market_price_BI',\n",
    "        fill='tonexty',\n",
    "        yaxis='y2'\n",
    "    ),\n",
    "    go.Scatter(\n",
    "        x=data.index,\n",
    "        y=data['my_wallet_n_users_BI'],\n",
    "        name='my_wallet_n_users_BI',\n",
    "        fill='tonexty',\n",
    "        yaxis='y3'    \n",
    "    )\n",
    "]\n",
    "layout = go.Layout(\n",
    "    title='BTC',\n",
    "    xaxis=dict(\n",
    "        domain=[0.1, 1]\n",
    "    ),\n",
    "    yaxis=dict(\n",
    "        title='output volume BI'\n",
    "    ),\n",
    "    yaxis2=dict(\n",
    "        title='market price BI',\n",
    "        overlaying='y',\n",
    "        type='log',\n",
    "        side='right'\n",
    "    ),\n",
    "    yaxis3=dict(\n",
    "        title='wallet users BI',\n",
    "        overlaying='y',\n",
    "        side='left',\n",
    "        position=0.05\n",
    "    )\n",
    ")\n",
    "fig = go.Figure(data=plot_data, layout=layout)"
   ]
  },
  {
   "cell_type": "code",
   "execution_count": null,
   "metadata": {},
   "outputs": [],
   "source": [
    "py.offline.iplot(fig)"
   ]
  },
  {
   "cell_type": "code",
   "execution_count": null,
   "metadata": {},
   "outputs": [],
   "source": []
  }
 ],
 "metadata": {
  "kernelspec": {
   "display_name": "Python 3",
   "language": "python",
   "name": "python3"
  },
  "language_info": {
   "codemirror_mode": {
    "name": "ipython",
    "version": 3
   },
   "file_extension": ".py",
   "mimetype": "text/x-python",
   "name": "python",
   "nbconvert_exporter": "python",
   "pygments_lexer": "ipython3",
   "version": "3.6.6"
  },
  "toc-autonumbering": false,
  "toc-showcode": false,
  "toc-showmarkdowntxt": false
 },
 "nbformat": 4,
 "nbformat_minor": 2
}
