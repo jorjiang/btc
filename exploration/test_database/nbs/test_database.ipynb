{
 "cells": [
  {
   "cell_type": "code",
   "execution_count": 1,
   "metadata": {},
   "outputs": [],
   "source": [
    "import pandas as pd\n",
    "from database.data_base import BtcDatabase"
   ]
  },
  {
   "cell_type": "code",
   "execution_count": 2,
   "metadata": {},
   "outputs": [],
   "source": [
    "btc_database = BtcDatabase()"
   ]
  },
  {
   "cell_type": "code",
   "execution_count": 3,
   "metadata": {},
   "outputs": [
    {
     "data": {
      "text/plain": [
       "['market-price',\n",
       " 'avg-block-size',\n",
       " 'n-transactions',\n",
       " 'mempool-size',\n",
       " 'total-bitcoins',\n",
       " 'market-cap',\n",
       " 'trade-volume',\n",
       " 'blocks-size',\n",
       " 'avg-block-size',\n",
       " 'n-orphaned-blocks',\n",
       " 'n-transactions-per-block',\n",
       " 'median-confirmation-time',\n",
       " 'hash-rate',\n",
       " 'difficulty',\n",
       " 'miners-revenue',\n",
       " 'transaction-fees',\n",
       " 'transaction-fees-usd',\n",
       " 'cost-per-transaction-percent',\n",
       " 'cost-per-transaction',\n",
       " 'n-unique-addresses',\n",
       " 'n-transactions',\n",
       " 'n-transactions-total',\n",
       " 'transactions-per-second',\n",
       " 'mempool-count',\n",
       " 'mempool-growth',\n",
       " 'mempool-size',\n",
       " 'utxo-count',\n",
       " 'n-transactions-excluding-popular',\n",
       " 'n-transactions-excluding-chains-longer-than-100',\n",
       " 'output-volume',\n",
       " 'estimated-transaction-volume',\n",
       " 'estimated-transaction-volume-usd',\n",
       " 'my-wallet-n-users']"
      ]
     },
     "execution_count": 3,
     "metadata": {},
     "output_type": "execute_result"
    }
   ],
   "source": [
    "btc_database.charts"
   ]
  },
  {
   "cell_type": "code",
   "execution_count": 4,
   "metadata": {},
   "outputs": [
    {
     "name": "stderr",
     "output_type": "stream",
     "text": [
      "100%|██████████| 33/33 [01:07<00:00,  2.05s/it]\n"
     ]
    }
   ],
   "source": [
    "btc_database.create_btc_database()"
   ]
  },
  {
   "cell_type": "code",
   "execution_count": 5,
   "metadata": {},
   "outputs": [],
   "source": [
    "data = btc_database.data"
   ]
  },
  {
   "cell_type": "code",
   "execution_count": 9,
   "metadata": {},
   "outputs": [
    {
     "data": {
      "text/plain": [
       "<matplotlib.axes._subplots.AxesSubplot at 0x118731160>"
      ]
     },
     "execution_count": 9,
     "metadata": {},
     "output_type": "execute_result"
    },
    {
     "data": {
      "image/png": "[encoded data removed]",
      "text/plain": [
       "<Figure size 432x288 with 1 Axes>"
      ]
     },
     "metadata": {},
     "output_type": "display_data"
    }
   ],
   "source": [
    "data['avg_block_size'].plot()"
   ]
  },
  {
   "cell_type": "code",
   "execution_count": 5,
   "metadata": {},
   "outputs": [
    {
     "ename": "NameError",
     "evalue": "name 'data' is not defined",
     "output_type": "error",
     "traceback": [
      "\u001b[0;31m---------------------------------------------------------------------------\u001b[0m",
      "\u001b[0;31mNameError\u001b[0m                                 Traceback (most recent call last)",
      "\u001b[0;32m<ipython-input-5-0c63a53db38f>\u001b[0m in \u001b[0;36m<module>\u001b[0;34m()\u001b[0m\n\u001b[0;32m----> 1\u001b[0;31m \u001b[0mdata\u001b[0m\u001b[0;34m[\u001b[0m\u001b[0;34m'market_price'\u001b[0m\u001b[0;34m]\u001b[0m\u001b[0;34m.\u001b[0m\u001b[0mplot\u001b[0m\u001b[0;34m(\u001b[0m\u001b[0;34m)\u001b[0m\u001b[0;34m\u001b[0m\u001b[0m\n\u001b[0m",
      "\u001b[0;31mNameError\u001b[0m: name 'data' is not defined"
     ]
    }
   ],
   "source": [
    "data['market_price'].plot()"
   ]
  },
  {
   "cell_type": "code",
   "execution_count": 7,
   "metadata": {},
   "outputs": [],
   "source": [
    "import MySQLdb\n",
    "db=MySQLdb.connect(user='jorjiang',passwd=\"jorjiang\",db=\"btc\")"
   ]
  },
  {
   "cell_type": "code",
   "execution_count": 10,
   "metadata": {},
   "outputs": [
    {
     "name": "stdout",
     "output_type": "stream",
     "text": [
      "information_schema\n",
      "btc\n",
      "mysql\n",
      "performance_schema\n",
      "sys\n"
     ]
    }
   ],
   "source": [
    "cursor = db.cursor()"
   ]
  },
  {
   "cell_type": "code",
   "execution_count": null,
   "metadata": {},
   "outputs": [],
   "source": []
  }
 ],
 "metadata": {
  "kernelspec": {
   "display_name": "Python 3",
   "language": "python",
   "name": "python3"
  },
  "language_info": {
   "codemirror_mode": {
    "name": "ipython",
    "version": 3
   },
   "file_extension": ".py",
   "mimetype": "text/x-python",
   "name": "python",
   "nbconvert_exporter": "python",
   "pygments_lexer": "ipython3",
   "version": "3.5.3"
  }
 },
 "nbformat": 4,
 "nbformat_minor": 2
}
